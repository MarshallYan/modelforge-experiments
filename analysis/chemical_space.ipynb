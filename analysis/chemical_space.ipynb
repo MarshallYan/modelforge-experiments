{
 "cells": [
  {
   "cell_type": "markdown",
   "id": "8d6a5b77-ae56-4b1e-a451-a4154caaef86",
   "metadata": {},
   "source": [
    "# Analyze Chemical Space"
   ]
  },
  {
   "cell_type": "code",
   "execution_count": 3,
   "id": "a57d4284-6cfd-406b-b14d-aa8f5cc28bc8",
   "metadata": {},
   "outputs": [],
   "source": [
    "import importlib\n",
    "import os\n",
    "import sys\n",
    "import statistics\n",
    "\n",
    "import matplotlib\n",
    "import matplotlib.pyplot as plt\n",
    "import numpy as np\n",
    "import pandas as pd\n",
    "import seaborn as sns\n",
    "import torch\n",
    "\n",
    "import helper\n",
    "from modelforge.dataset.dataset import initialize_datamodule\n",
    "from modelforge.dataset.utils import RandomRecordSplittingStrategy, SplittingStrategy\n",
    "\n",
    "sns.set_theme()\n",
    "sns.set_context(\"notebook\")\n",
    "\n",
    "#importlib.reload(helper)"
   ]
  },
  {
   "cell_type": "code",
   "execution_count": 8,
   "id": "43ce24a5-d9bf-4e8a-803c-123f2b71128d",
   "metadata": {
    "scrolled": true
   },
   "outputs": [
    {
     "name": "stderr",
     "output_type": "stream",
     "text": [
      "\u001b[32m2025-10-01 19:02:33.805\u001b[0m | \u001b[34m\u001b[1mDEBUG   \u001b[0m | \u001b[36mmodelforge.dataset.dataset\u001b[0m:\u001b[36m__init__\u001b[0m:\u001b[36m327\u001b[0m - \u001b[34m\u001b[1mLoading config data from /Users/syan/workdir/modelforge/modelforge/dataset/yaml_files/spice2.yaml\u001b[0m\n",
      "\u001b[32m2025-10-01 19:02:33.830\u001b[0m | \u001b[1mINFO    \u001b[0m | \u001b[36mmodelforge.dataset.dataset\u001b[0m:\u001b[36m__init__\u001b[0m:\u001b[36m367\u001b[0m - \u001b[1mUsing dataset version full_dataset_HCNOF_v1.1\u001b[0m\n",
      "\u001b[32m2025-10-01 19:02:33.832\u001b[0m | \u001b[33m\u001b[1mWARNING \u001b[0m | \u001b[36mmodelforge.dataset.dataset\u001b[0m:\u001b[36m_metadata_validation\u001b[0m:\u001b[36m680\u001b[0m - \u001b[33m\u001b[1mChecksum for hdf5 file used to generate npz file does not match current file in dataloader.\u001b[0m\n",
      "\u001b[32m2025-10-01 19:02:33.832\u001b[0m | \u001b[34m\u001b[1mDEBUG   \u001b[0m | \u001b[36mmodelforge.dataset.dataset\u001b[0m:\u001b[36m_file_validation\u001b[0m:\u001b[36m721\u001b[0m - \u001b[34m\u001b[1mFile ./dataset_cache/spice_2_dataset_v1.1_HCNOF.hdf5 does not exist.\u001b[0m\n",
      "\u001b[32m2025-10-01 19:02:33.833\u001b[0m | \u001b[34m\u001b[1mDEBUG   \u001b[0m | \u001b[36mmodelforge.dataset.dataset\u001b[0m:\u001b[36m_acquire_dataset\u001b[0m:\u001b[36m461\u001b[0m - \u001b[34m\u001b[1mhdf5 file spice_2_dataset_v1.1_HCNOF.hdf5 not found.\u001b[0m\n",
      "\u001b[32m2025-10-01 19:02:33.921\u001b[0m | \u001b[34m\u001b[1mDEBUG   \u001b[0m | \u001b[36mmodelforge.utils.remote\u001b[0m:\u001b[36mdownload_from_url\u001b[0m:\u001b[36m195\u001b[0m - \u001b[34m\u001b[1mDownloading datafile from https://zenodo.org/records/15579090/files/spice_2_dataset_v1.1_HCNOF.hdf5.gz to ./dataset_cache/spice_2_dataset_v1.1_HCNOF.hdf5.gz.\u001b[0m\n"
     ]
    },
    {
     "name": "stdout",
     "output_type": "stream",
     "text": [
      "Validating file ./dataset_cache/spice_2_dataset_v1.1_HCNOF.hdf5\n"
     ]
    },
    {
     "name": "stderr",
     "output_type": "stream",
     "text": [
      "downloading: 100%|##########| 22875180/22875180 [16:54<00:00, 22548.19it/s]\n",
      "\u001b[32m2025-10-01 19:20:22.700\u001b[0m | \u001b[34m\u001b[1mDEBUG   \u001b[0m | \u001b[36mmodelforge.dataset.dataset\u001b[0m:\u001b[36m_from_hdf5\u001b[0m:\u001b[36m795\u001b[0m - \u001b[34m\u001b[1mReading data from ./dataset_cache/spice_2_dataset_v1.1_HCNOF.hdf5\u001b[0m\n",
      "\u001b[32m2025-10-01 19:20:22.701\u001b[0m | \u001b[34m\u001b[1mDEBUG   \u001b[0m | \u001b[36mmodelforge.dataset.dataset\u001b[0m:\u001b[36m_from_hdf5\u001b[0m:\u001b[36m796\u001b[0m - \u001b[34m\u001b[1melement filter: None\u001b[0m\n",
      "\u001b[32m2025-10-01 19:20:24.568\u001b[0m | \u001b[34m\u001b[1mDEBUG   \u001b[0m | \u001b[36mmodelforge.dataset.dataset\u001b[0m:\u001b[36m_from_hdf5\u001b[0m:\u001b[36m828\u001b[0m - \u001b[34m\u001b[1mProperties of Interest: ['atomic_numbers', 'positions', 'dft_total_energy', 'dft_total_force', 'total_charge', 'scf_dipole']\u001b[0m\n",
      "\u001b[32m2025-10-01 19:20:24.569\u001b[0m | \u001b[34m\u001b[1mDEBUG   \u001b[0m | \u001b[36mmodelforge.dataset.dataset\u001b[0m:\u001b[36m_from_hdf5\u001b[0m:\u001b[36m834\u001b[0m - \u001b[34m\u001b[1mn_entries: 57037\u001b[0m\n",
      "100%|██████████| 57037/57037 [02:01<00:00, 469.61it/s]\n",
      "\u001b[32m2025-10-01 19:22:26.319\u001b[0m | \u001b[34m\u001b[1mDEBUG   \u001b[0m | \u001b[36mmodelforge.dataset.dataset\u001b[0m:\u001b[36m_to_file_cache\u001b[0m:\u001b[36m1046\u001b[0m - \u001b[34m\u001b[1mWriting npz file to ../cache/spice2.npz\u001b[0m\n",
      "\u001b[32m2025-10-01 19:22:26.560\u001b[0m | \u001b[34m\u001b[1mDEBUG   \u001b[0m | \u001b[36mmodelforge.dataset.dataset\u001b[0m:\u001b[36m_from_file_cache\u001b[0m:\u001b[36m1007\u001b[0m - \u001b[34m\u001b[1mLoading processed data from ../cache/spice2.npz generated on 2025-10-01 19:22:26.552259\u001b[0m\n",
      "\u001b[32m2025-10-01 19:22:26.560\u001b[0m | \u001b[34m\u001b[1mDEBUG   \u001b[0m | \u001b[36mmodelforge.dataset.dataset\u001b[0m:\u001b[36m_from_file_cache\u001b[0m:\u001b[36m1010\u001b[0m - \u001b[34m\u001b[1mProperties of Interest in .npz file: ['atomic_numbers', 'dft_total_energy', 'total_charge', 'scf_dipole', 'positions', 'dft_total_force']\u001b[0m\n",
      "\u001b[32m2025-10-01 19:22:26.560\u001b[0m | \u001b[34m\u001b[1mDEBUG   \u001b[0m | \u001b[36mmodelforge.dataset.dataset\u001b[0m:\u001b[36m_from_file_cache\u001b[0m:\u001b[36m1026\u001b[0m - \u001b[34m\u001b[1mLoaded processed data from cache.\u001b[0m\n",
      "\u001b[32m2025-10-01 19:22:26.704\u001b[0m | \u001b[1mINFO    \u001b[0m | \u001b[36mmodelforge.dataset.dataset\u001b[0m:\u001b[36m_calculate_atomic_self_energies\u001b[0m:\u001b[36m1368\u001b[0m - \u001b[1mUsing atomic self energies provided by the dataset.\u001b[0m\n",
      "\u001b[32m2025-10-01 19:22:26.705\u001b[0m | \u001b[34m\u001b[1mDEBUG   \u001b[0m | \u001b[36mmodelforge.dataset.dataset\u001b[0m:\u001b[36mprepare_data\u001b[0m:\u001b[36m1265\u001b[0m - \u001b[34m\u001b[1mProcess dataset ...\u001b[0m\n",
      "\u001b[32m2025-10-01 19:22:26.705\u001b[0m | \u001b[1mINFO    \u001b[0m | \u001b[36mmodelforge.dataset.dataset\u001b[0m:\u001b[36m_per_datapoint_operations\u001b[0m:\u001b[36m1442\u001b[0m - \u001b[1mPerforming per datapoint operations in the dataset dataset\u001b[0m\n",
      "\u001b[32m2025-10-01 19:22:26.705\u001b[0m | \u001b[1mINFO    \u001b[0m | \u001b[36mmodelforge.dataset.dataset\u001b[0m:\u001b[36m_per_datapoint_operations\u001b[0m:\u001b[36m1444\u001b[0m - \u001b[1mRemoving self energies from the dataset\u001b[0m\n"
     ]
    },
    {
     "name": "stdout",
     "output_type": "stream",
     "text": [
      "Validating file ../cache/spice2.npz\n"
     ]
    },
    {
     "name": "stderr",
     "output_type": "stream",
     "text": [
      "Process dataset: 100%|██████████| 928073/928073 [00:05<00:00, 181220.01it/s]\n",
      "Calculating pairlist for dataset: 100%|██████████| 4641/4641 [00:20<00:00, 231.00it/s]\n",
      "\u001b[32m2025-10-01 19:22:54.868\u001b[0m | \u001b[1mINFO    \u001b[0m | \u001b[36mmodelforge.dataset.utils\u001b[0m:\u001b[36mcalculate_mean_and_variance\u001b[0m:\u001b[36m167\u001b[0m - \u001b[1mCalculating mean and variance of atomic energies\u001b[0m\n",
      "100%|██████████| 1813/1813 [00:09<00:00, 186.34it/s]\n",
      "\u001b[32m2025-10-01 19:23:04.602\u001b[0m | \u001b[1mINFO    \u001b[0m | \u001b[36mmodelforge.dataset.utils\u001b[0m:\u001b[36mcalculate_mean_and_variance\u001b[0m:\u001b[36m179\u001b[0m - \u001b[1mMean and standard deviation of the dataset:{'per_atom_energy_mean': tensor(-430.6900, dtype=torch.float64), 'per_atom_energy_stddev': tensor(42.4628, dtype=torch.float64)}\u001b[0m\n",
      "\u001b[32m2025-10-01 19:23:04.603\u001b[0m | \u001b[1mINFO    \u001b[0m | \u001b[36mmodelforge.dataset.dataset\u001b[0m:\u001b[36mprepare_data\u001b[0m:\u001b[36m1284\u001b[0m - \u001b[1m{'atomic_self_energies': {'B': <Quantity(-24.6715205, 'hartree')>, 'Br': <Quantity(-2574.11672, 'hartree')>, 'C': <Quantity(-37.8726451, 'hartree')>, 'Ca': <Quantity(-676.952847, 'hartree')>, 'Cl': <Quantity(-460.198876, 'hartree')>, 'F': <Quantity(-99.7861162, 'hartree')>, 'H': <Quantity(-0.49876051, 'hartree')>, 'I': <Quantity(-297.762289, 'hartree')>, 'K': <Quantity(-599.802568, 'hartree')>, 'Li': <Quantity(-7.28525471, 'hartree')>, 'Mg': <Quantity(-199.268842, 'hartree')>, 'N': <Quantity(-54.6232751, 'hartree')>, 'Na': <Quantity(-162.113665, 'hartree')>, 'O': <Quantity(-75.1131784, 'hartree')>, 'P': <Quantity(-341.30592, 'hartree')>, 'S': <Quantity(-398.159964, 'hartree')>, 'Si': <Quantity(-289.413135, 'hartree')>}, 'training_dataset_statistics': {'per_atom_energy_mean': tensor(-430.6900, dtype=torch.float64), 'per_atom_energy_stddev': tensor(42.4628, dtype=torch.float64)}}\u001b[0m\n",
      "\u001b[32m2025-10-01 19:23:04.605\u001b[0m | \u001b[1mINFO    \u001b[0m | \u001b[36mmodelforge.dataset.dataset\u001b[0m:\u001b[36m_log_dataset_statistic\u001b[0m:\u001b[36m1326\u001b[0m - \u001b[1mSaving dataset statistics to disk: ../cache/spice2_dataset_statistic.toml\u001b[0m\n",
      "\u001b[32m2025-10-01 19:23:17.599\u001b[0m | \u001b[34m\u001b[1mDEBUG   \u001b[0m | \u001b[36mmodelforge.dataset.utils\u001b[0m:\u001b[36msplit\u001b[0m:\u001b[36m713\u001b[0m - \u001b[34m\u001b[1mUsing first come/first serve splitting strategy ...\u001b[0m\n",
      "\u001b[32m2025-10-01 19:23:17.600\u001b[0m | \u001b[34m\u001b[1mDEBUG   \u001b[0m | \u001b[36mmodelforge.dataset.utils\u001b[0m:\u001b[36msplit\u001b[0m:\u001b[36m714\u001b[0m - \u001b[34m\u001b[1mSplitting dataset into 0.8, 0.1, 0.1 ...\u001b[0m\n"
     ]
    }
   ],
   "source": [
    "# initialize datasets as in training\n",
    "dm = initialize_datamodule(\n",
    "    dataset_name=\"spice2\",\n",
    "    version_select=\"full_dataset_HCNOF_v1.1\",\n",
    "    local_cache_dir=\"../cache\",\n",
    "    dataset_cache_dir=\"./dataset_cache\",\n",
    "    properties_of_interest=[\"atomic_numbers\", \"positions\", \"dft_total_energy\", \"dft_total_force\", \"total_charge\", \"scf_dipole\"],\n",
    "    properties_assignment={\n",
    "        \"atomic_numbers\": \"atomic_numbers\",\n",
    "        \"positions\": \"positions\",\n",
    "        \"E\": \"dft_total_energy\",\n",
    "        \"F\": \"dft_total_force\",\n",
    "        \"total_charge\": \"total_charge\",\n",
    "        \"dipole_moment\": \"scf_dipole\"\n",
    "    }\n",
    ")"
   ]
  },
  {
   "cell_type": "markdown",
   "id": "f2eae83e-d5f6-4f3e-a39f-7d2724a29eca",
   "metadata": {},
   "source": [
    "## Plotting"
   ]
  },
  {
   "cell_type": "code",
   "execution_count": 14,
   "id": "08ce1bf1-758e-4fd6-8779-5119eb5b1822",
   "metadata": {},
   "outputs": [
    {
     "data": {
      "text/plain": [
       "{'_log_hyperparams': False,\n",
       " 'prepare_data_per_node': True,\n",
       " 'allow_zero_length_dataloader_with_multiple_devices': False,\n",
       " 'trainer': None,\n",
       " 'name': 'spice2',\n",
       " 'batch_size': 64,\n",
       " 'splitting_strategy': <modelforge.dataset.utils.FirstComeFirstServeSplittingStrategy at 0x341e35850>,\n",
       " 'remove_self_energies': True,\n",
       " 'shift_center_of_mass_to_origin': False,\n",
       " 'dict_atomic_self_energies': None,\n",
       " 'regression_ase': False,\n",
       " 'force_download': False,\n",
       " 'regenerate_processed_dataset': False,\n",
       " 'version_select': 'full_dataset_HCNOF_v1.1',\n",
       " 'train_dataset': <torch.utils.data.dataset.Subset at 0x343259f10>,\n",
       " 'val_dataset': <torch.utils.data.dataset.Subset at 0x3d0a1f5f0>,\n",
       " 'test_dataset': <torch.utils.data.dataset.Subset at 0x49009fec0>,\n",
       " 'properties_of_interest': ['atomic_numbers',\n",
       "  'positions',\n",
       "  'dft_total_energy',\n",
       "  'dft_total_force',\n",
       "  'total_charge',\n",
       "  'scf_dipole'],\n",
       " 'properties_assignment': {'atomic_numbers': 'atomic_numbers',\n",
       "  'positions': 'positions',\n",
       "  'E': 'dft_total_energy',\n",
       "  'F': 'dft_total_force',\n",
       "  'total_charge': 'total_charge',\n",
       "  'dipole_moment': 'scf_dipole'},\n",
       " 'element_filter': None,\n",
       " 'local_yaml_file': None,\n",
       " 'local_cache_dir': '../cache',\n",
       " 'dataset_cache_dir': './dataset_cache',\n",
       " 'pairlist': Pairlist(),\n",
       " 'dataset_statistic_filename': '../cache/spice2_dataset_statistic.toml',\n",
       " 'cache_processed_dataset_filename': '../cache/spice2_full_dataset_HCNOF_v1.1_processed.pt',\n",
       " 'lock_file': '../cache/spice2_full_dataset_HCNOF_v1.1_processed.pt.lockfile',\n",
       " 'torch_dataset': <modelforge.dataset.dataset.TorchDataset at 0x4900633b0>}"
      ]
     },
     "execution_count": 14,
     "metadata": {},
     "output_type": "execute_result"
    }
   ],
   "source": [
    "vars(dm)"
   ]
  },
  {
   "cell_type": "code",
   "execution_count": 23,
   "id": "4e4a62f8-a73a-43e4-b8cb-5c061ddee698",
   "metadata": {
    "scrolled": true
   },
   "outputs": [
    {
     "data": {
      "text/plain": [
       "{'preloaded': False,\n",
       " 'properties_of_interest': {'atomic_numbers': tensor([8, 8, 6,  ..., 1, 1, 1], dtype=torch.int32),\n",
       "  'positions': tensor([[ 0.4113, -0.2958,  0.0557],\n",
       "          [ 0.7071,  0.1196,  0.0680],\n",
       "          [ 0.4835, -0.2891,  0.1545],\n",
       "          ...,\n",
       "          [ 0.4428, -0.2938, -0.1836],\n",
       "          [-0.1426, -0.5384,  0.1532],\n",
       "          [-0.2655, -0.4963,  0.2526]]),\n",
       "  'E': tensor([[-27507.4269],\n",
       "          [-27497.7733],\n",
       "          [-27488.4544],\n",
       "          ...,\n",
       "          [-29707.2108],\n",
       "          [-29707.5980],\n",
       "          [-29613.8078]], dtype=torch.float64),\n",
       "  'total_charge': tensor([[0],\n",
       "          [0],\n",
       "          [0],\n",
       "          ...,\n",
       "          [0],\n",
       "          [0],\n",
       "          [0]], dtype=torch.int32),\n",
       "  'F': tensor([[  249.9994,   496.8468,    97.5443],\n",
       "          [ -352.4402,  -201.2924,   251.3811],\n",
       "          [-1088.0614, -1128.3499,  -807.4728],\n",
       "          ...,\n",
       "          [ 1188.5764,  1633.7742,  1061.7694],\n",
       "          [ -236.1393,   380.6429,   776.6714],\n",
       "          [  588.8116,  -260.2439,  -269.7920]]),\n",
       "  'dipole_moment': tensor([[ 0.1152,  0.0412,  0.0367],\n",
       "          [-0.0642, -0.0626, -0.0785],\n",
       "          [-0.0694,  0.0248,  0.1171],\n",
       "          ...,\n",
       "          [-0.1157,  0.2349,  0.0829],\n",
       "          [ 0.2712, -0.1723,  0.0282],\n",
       "          [ 0.1149,  0.2168, -0.0582]]),\n",
       "  'S': tensor([[0],\n",
       "          [0],\n",
       "          [0],\n",
       "          ...,\n",
       "          [0],\n",
       "          [0],\n",
       "          [0]], dtype=torch.int32),\n",
       "  'partial_charges': tensor([[0.],\n",
       "          [0.],\n",
       "          [0.],\n",
       "          ...,\n",
       "          [0.],\n",
       "          [0.],\n",
       "          [0.]]),\n",
       "  'quadrupole_moment': tensor([[[0., 0., 0.],\n",
       "           [0., 0., 0.],\n",
       "           [0., 0., 0.]],\n",
       "  \n",
       "          [[0., 0., 0.],\n",
       "           [0., 0., 0.],\n",
       "           [0., 0., 0.]],\n",
       "  \n",
       "          [[0., 0., 0.],\n",
       "           [0., 0., 0.],\n",
       "           [0., 0., 0.]],\n",
       "  \n",
       "          ...,\n",
       "  \n",
       "          [[0., 0., 0.],\n",
       "           [0., 0., 0.],\n",
       "           [0., 0., 0.]],\n",
       "  \n",
       "          [[0., 0., 0.],\n",
       "           [0., 0., 0.],\n",
       "           [0., 0., 0.]],\n",
       "  \n",
       "          [[0., 0., 0.],\n",
       "           [0., 0., 0.],\n",
       "           [0., 0., 0.]]]),\n",
       "  'pair_list': tensor([[ 0,  0,  0,  ..., 89, 89, 89],\n",
       "          [ 1,  2,  3,  ..., 86, 87, 88]], dtype=torch.int32),\n",
       "  'number_of_pairs': tensor([         0,       4290,       8580,  ..., 1319949008, 1319957018,\n",
       "          1319965028])},\n",
       " 'number_of_records': 57037,\n",
       " 'number_of_atoms': 2872701,\n",
       " 'length': 928073,\n",
       " 'series_mol_start_idxs_by_rec': array([     0,      4,      6, ..., 927023, 927073, 928073]),\n",
       " 'single_atom_start_idxs_by_conf': array([      0,       0,       0, ..., 2872611, 2872611, 2872611]),\n",
       " 'single_atom_end_idxs_by_conf': array([     66,      66,      66, ..., 2872701, 2872701, 2872701]),\n",
       " 'series_atom_start_idxs_by_conf': array([       0,       66,      132, ..., 32237776, 32237866, 32237956])}"
      ]
     },
     "execution_count": 23,
     "metadata": {},
     "output_type": "execute_result"
    }
   ],
   "source": [
    "vars(dm.torch_dataset)"
   ]
  },
  {
   "cell_type": "code",
   "execution_count": 35,
   "id": "b48903eb-c4b2-44be-9bec-fd65bdecae6e",
   "metadata": {},
   "outputs": [
    {
     "data": {
      "text/plain": [
       "0.0"
      ]
     },
     "execution_count": 35,
     "metadata": {},
     "output_type": "execute_result"
    }
   ],
   "source": [
    "dm.torch_dataset.properties_of_interest[\"total_charge\"].numpy().reshape(-1).mean()"
   ]
  },
  {
   "cell_type": "code",
   "execution_count": null,
   "id": "ee563d56-b0af-4c61-9a15-2e1dd46d5c4e",
   "metadata": {},
   "outputs": [],
   "source": []
  }
 ],
 "metadata": {
  "kernelspec": {
   "display_name": "Python 3 (ipykernel)",
   "language": "python",
   "name": "python3"
  },
  "language_info": {
   "codemirror_mode": {
    "name": "ipython",
    "version": 3
   },
   "file_extension": ".py",
   "mimetype": "text/x-python",
   "name": "python",
   "nbconvert_exporter": "python",
   "pygments_lexer": "ipython3",
   "version": "3.12.11"
  }
 },
 "nbformat": 4,
 "nbformat_minor": 5
}
